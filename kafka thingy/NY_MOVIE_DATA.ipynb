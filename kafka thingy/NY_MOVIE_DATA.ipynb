{
 "cells": [
  {
   "cell_type": "code",
   "execution_count": 1,
   "id": "d299341e",
   "metadata": {},
   "outputs": [],
   "source": [
    "import requests\n",
    "from pprint import pprint"
   ]
  },
  {
   "cell_type": "code",
   "execution_count": 2,
   "id": "a081333a",
   "metadata": {},
   "outputs": [],
   "source": [
    "\n",
    "api_key = 'L3F9t43bEo6WtwYPQwsz9CT7XryDDfzq'\n",
    "movie_name = 'godfather'\n",
    "# API url of Times NewsWire API for real-time stream of every article published in New York Times\n",
    "#url = 'https://api.nytimes.com/svc/movies/v2/reviews/search.json?query=godfather&api='+api_key\n",
    "url = 'https://api.nytimes.com/svc/movies/v2/reviews/search.json?query=godfather&api-key=L3F9t43bEo6WtwYPQwsz9CT7XryDDfzq'"
   ]
  },
  {
   "cell_type": "code",
   "execution_count": 3,
   "id": "c7ec53bd",
   "metadata": {},
   "outputs": [
    {
     "name": "stdout",
     "output_type": "stream",
     "text": [
      "https://api.nytimes.com/svc/movies/v2/reviews/search.json?query=godfather&api-key=L3F9t43bEo6WtwYPQwsz9CT7XryDDfzq\n"
     ]
    }
   ],
   "source": [
    "print(url)"
   ]
  },
  {
   "cell_type": "code",
   "execution_count": 4,
   "id": "8586db02",
   "metadata": {},
   "outputs": [],
   "source": [
    "def get_NY_movie_data():\n",
    "    query = requests.get(url).json()\n",
    "    ls = query['results']\n",
    "    d = []\n",
    "    for dict in ls:\n",
    "        data = {}\n",
    "        data['mpaa_rating'] = dict['mpaa_rating']\n",
    "        data['display_title'] = dict['display_title']\n",
    "        data['critics_pick'] = dict['critics_pick']\n",
    "        #data['url'] = dict['url']\n",
    "        byline  = dict['byline'] \n",
    "        data['headline'] = dict['headline']\n",
    "        #data['source'] = dict['source']\n",
    "        data['publication_date'] = dict['publication_date']\n",
    "        data['summary_short'] = dict['summary_short']\n",
    "        d.append(data)\n",
    "    return d"
   ]
  },
  {
   "cell_type": "code",
   "execution_count": 5,
   "id": "cacae83c",
   "metadata": {},
   "outputs": [
    {
     "name": "stdout",
     "output_type": "stream",
     "text": [
      "{'mpaa_rating': 'TV-MA', 'display_title': 'The Black Godfather', 'critics_pick': 0, 'headline': '‘The Black Godfather’ Review: The Music Executive Who Made It All Happen', 'publication_date': '2019-06-06', 'summary_short': 'Reginald Hudlin’s documentary about Clarence Avant includes many golden anecdotes.'}\n"
     ]
    }
   ],
   "source": [
    "if __name__ == '__main__':\n",
    "    data = get_NY_movie_data()\n",
    "    print(data[0])"
   ]
  },
  {
   "cell_type": "code",
   "execution_count": 6,
   "id": "8d915988",
   "metadata": {},
   "outputs": [],
   "source": [
    "# Import system packages and libraries \n",
    "from time import sleep\n",
    "from kafka import KafkaProducer\n",
    "import json \n",
    "#from nytWire import get_newsWire\n",
    "from pprint import pprint"
   ]
  },
  {
   "cell_type": "code",
   "execution_count": 7,
   "id": "22bd9d28",
   "metadata": {},
   "outputs": [
    {
     "name": "stdout",
     "output_type": "stream",
     "text": [
      "{'mpaa_rating': 'TV-MA', 'display_title': 'The Black Godfather', 'critics_pick': 0, 'headline': '‘The Black Godfather’ Review: The Music Executive Who Made It All Happen', 'publication_date': '2019-06-06', 'summary_short': 'Reginald Hudlin’s documentary about Clarence Avant includes many golden anecdotes.'}\n",
      "{'mpaa_rating': 'R', 'display_title': 'Square Grouper: The Godfathers of Ganja', 'critics_pick': 0, 'headline': 'Adventures in the Drug Trades', 'publication_date': '2011-04-14', 'summary_short': '“Square Grouper” is a documentary about pot smuggling in South Florida in the 1970s and ’80s.'}\n",
      "{'mpaa_rating': 'PG-13', 'display_title': 'Tokyo Godfathers', 'critics_pick': 1, 'headline': 'Three Down-and-Outs Rescue a Foundling From the Trash', 'publication_date': '2004-01-16', 'summary_short': \"Another marvel from Satoshi Kon, whose first two films, &quot;Perfect Blue&quot; and &quot;Millennium Actress,&quot; have already pushed Japanese feature-length animation toward greater realism and wilder fantasy. Loosely based on &quot;3 Godfathers,&quot; John Ford's maudlin 1948 western, this movie, a sweet fable of decency amid the down and out, also has echoes of Chaplin and Capra. Three homeless people — an embittered alcoholic, a middle-aged transvestite and a teenage runaway — find an abandoned baby on Christmas Eve. As they try to reunite the foundling with her parents, they revisit their own unhappy lives, and travel through a city rendered with unbelievable precision and tinted with undeniable love. The potentially sticky sentiments of the story are balanced by a crazily inventive narrative and by Mr. Kon's cool, obsessively detailed visual style. At the end, the skyscrapers of Tokyo wriggle and dance to a Japanese-language techno version of Beethoven's &quot;Ode to Joy,&quot; which pretty much sums up this indescribable, unforgettable movie. — A. O. Scott\"}\n",
      "{'mpaa_rating': 'R', 'display_title': 'The Godfather, Part III', 'critics_pick': 1, 'headline': 'GODFATHER PART III (MOVIE)', 'publication_date': '1990-12-25', 'summary_short': \"Mafia heir trapped by legacy of past. Coppola's director's cut. Deeply moving.\"}\n",
      "{'mpaa_rating': 'R', 'display_title': 'The Godfather, Part II', 'critics_pick': 1, 'headline': 'Godfather: Part II, The (Movie)', 'publication_date': '1974-12-13', 'summary_short': ''}\n",
      "{'mpaa_rating': 'R', 'display_title': 'The Black Godfather', 'critics_pick': 0, 'headline': 'Black Godfather, The (Movie)', 'publication_date': '1974-09-04', 'summary_short': ''}\n",
      "{'mpaa_rating': 'R', 'display_title': 'The Godfather', 'critics_pick': 1, 'headline': 'THE GODFATHER (MOVIE)', 'publication_date': '1972-03-16', 'summary_short': \"Puzo's Mafioso novel. Scalding and memorable.\"}\n",
      "{'mpaa_rating': 'Passed', 'display_title': 'Three Godfathers', 'critics_pick': 0, 'headline': 'Three Godfathers', 'publication_date': '1949-03-04', 'summary_short': 'Outlaw trio and abandoned child. Typical, expert Ford western.'}\n"
     ]
    },
    {
     "ename": "KeyboardInterrupt",
     "evalue": "",
     "output_type": "error",
     "traceback": [
      "\u001b[1;31m---------------------------------------------------------------------------\u001b[0m",
      "\u001b[1;31mKeyboardInterrupt\u001b[0m                         Traceback (most recent call last)",
      "\u001b[1;32m~\\AppData\\Local\\Temp/ipykernel_29744/3500219037.py\u001b[0m in \u001b[0;36m<module>\u001b[1;34m\u001b[0m\n\u001b[0;32m     14\u001b[0m             \u001b[0mprint\u001b[0m\u001b[1;33m(\u001b[0m\u001b[0meach\u001b[0m\u001b[1;33m)\u001b[0m\u001b[1;33m\u001b[0m\u001b[1;33m\u001b[0m\u001b[0m\n\u001b[0;32m     15\u001b[0m             \u001b[0mproducer\u001b[0m\u001b[1;33m.\u001b[0m\u001b[0msend\u001b[0m\u001b[1;33m(\u001b[0m\u001b[1;34m'godfather'\u001b[0m\u001b[1;33m,\u001b[0m\u001b[0meach\u001b[0m\u001b[1;33m)\u001b[0m\u001b[1;33m\u001b[0m\u001b[1;33m\u001b[0m\u001b[0m\n\u001b[1;32m---> 16\u001b[1;33m             \u001b[0msleep\u001b[0m\u001b[1;33m(\u001b[0m\u001b[1;36m4\u001b[0m\u001b[1;33m)\u001b[0m\u001b[1;33m\u001b[0m\u001b[1;33m\u001b[0m\u001b[0m\n\u001b[0m",
      "\u001b[1;31mKeyboardInterrupt\u001b[0m: "
     ]
    }
   ],
   "source": [
    "# Serialize json data for producer\n",
    "def json_serializer(data):\n",
    "    return json.dumps(data).encode('utf-8')\n",
    "\n",
    "# Kafka producer to publish messages to Kafka topic - 'nytWire' \n",
    "producer = KafkaProducer(bootstrap_servers=['localhost:9092'],\n",
    "                         value_serializer = json_serializer)\n",
    "\n",
    "if __name__ == '__main__':\n",
    "# Run the process infinitely, because the data is a real-time stream\n",
    "    while 1==1:\n",
    "        news = get_NY_movie_data()\n",
    "        for each in news:\n",
    "            print(each)\n",
    "            producer.send('godfather',each)\n",
    "            sleep(4)"
   ]
  },
  {
   "cell_type": "code",
   "execution_count": null,
   "id": "a5b06ada",
   "metadata": {},
   "outputs": [],
   "source": [
    "\n"
   ]
  }
 ],
 "metadata": {
  "kernelspec": {
   "display_name": "Python 3 (ipykernel)",
   "language": "python",
   "name": "python3"
  },
  "language_info": {
   "codemirror_mode": {
    "name": "ipython",
    "version": 3
   },
   "file_extension": ".py",
   "mimetype": "text/x-python",
   "name": "python",
   "nbconvert_exporter": "python",
   "pygments_lexer": "ipython3",
   "version": "3.8.8"
  }
 },
 "nbformat": 4,
 "nbformat_minor": 5
}
