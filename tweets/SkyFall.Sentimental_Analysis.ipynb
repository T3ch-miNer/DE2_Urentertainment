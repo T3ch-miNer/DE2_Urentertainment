{
 "cells": [
  {
   "cell_type": "code",
   "execution_count": 2,
   "metadata": {},
   "outputs": [],
   "source": [
    "import pandas as pd"
   ]
  },
  {
   "cell_type": "code",
   "execution_count": 4,
   "metadata": {},
   "outputs": [],
   "source": [
    "df = pd.read_csv('./Skyfall.csv')"
   ]
  },
  {
   "cell_type": "code",
   "execution_count": 5,
   "metadata": {},
   "outputs": [
    {
     "data": {
      "text/html": [
       "<div>\n",
       "<style scoped>\n",
       "    .dataframe tbody tr th:only-of-type {\n",
       "        vertical-align: middle;\n",
       "    }\n",
       "\n",
       "    .dataframe tbody tr th {\n",
       "        vertical-align: top;\n",
       "    }\n",
       "\n",
       "    .dataframe thead th {\n",
       "        text-align: right;\n",
       "    }\n",
       "</style>\n",
       "<table border=\"1\" class=\"dataframe\">\n",
       "  <thead>\n",
       "    <tr style=\"text-align: right;\">\n",
       "      <th></th>\n",
       "      <th>user_name</th>\n",
       "      <th>user_location</th>\n",
       "      <th>user_description</th>\n",
       "      <th>user_verified</th>\n",
       "      <th>date</th>\n",
       "      <th>text</th>\n",
       "      <th>hashtags</th>\n",
       "      <th>source</th>\n",
       "    </tr>\n",
       "  </thead>\n",
       "  <tbody>\n",
       "    <tr>\n",
       "      <th>0</th>\n",
       "      <td>Jaakko Viljamaa</td>\n",
       "      <td>Turku, Finland</td>\n",
       "      <td>Vascular surgeon with a special interest in ve...</td>\n",
       "      <td>False</td>\n",
       "      <td>2022-06-13 20:56:48+00:00</td>\n",
       "      <td>– It's not very comfortable, is it?\\n– Are you...</td>\n",
       "      <td>['Skyfall']</td>\n",
       "      <td>Twitter Web App</td>\n",
       "    </tr>\n",
       "    <tr>\n",
       "      <th>1</th>\n",
       "      <td>PJW #FBPE 🔶</td>\n",
       "      <td>Cambridge</td>\n",
       "      <td>Old, tad broken, ex cricketer (of sorts), surv...</td>\n",
       "      <td>False</td>\n",
       "      <td>2022-06-13 19:09:11+00:00</td>\n",
       "      <td>@PaulbernalUK I think such a thing was used in...</td>\n",
       "      <td>['SkyFall', 'JamesBond']</td>\n",
       "      <td>Twitter Web App</td>\n",
       "    </tr>\n",
       "    <tr>\n",
       "      <th>2</th>\n",
       "      <td>His Holiness Peter Gibbs</td>\n",
       "      <td>Bedford vocabulary, Roma heart</td>\n",
       "      <td>A man out of time, country and mind.</td>\n",
       "      <td>False</td>\n",
       "      <td>2022-06-13 17:28:07+00:00</td>\n",
       "      <td>It's time for #SkyFall been too long https://t...</td>\n",
       "      <td>['SkyFall']</td>\n",
       "      <td>Twitter for Android</td>\n",
       "    </tr>\n",
       "    <tr>\n",
       "      <th>3</th>\n",
       "      <td>Lasse Hallström</td>\n",
       "      <td>NaN</td>\n",
       "      <td>Die Schlüsselfigur der PLandemie ist Prof. Ste...</td>\n",
       "      <td>False</td>\n",
       "      <td>2022-06-13 15:51:52+00:00</td>\n",
       "      <td>RT @LasseHallstroem: Norman Nathan ft. Martin ...</td>\n",
       "      <td>['SKYFALL']</td>\n",
       "      <td>Twitter for Android</td>\n",
       "    </tr>\n",
       "    <tr>\n",
       "      <th>4</th>\n",
       "      <td>Greenwich Hospital</td>\n",
       "      <td>NaN</td>\n",
       "      <td>Greenwich Hospital is a unique Crown Charity f...</td>\n",
       "      <td>False</td>\n",
       "      <td>2022-06-13 15:48:54+00:00</td>\n",
       "      <td>RT @RHSSuffolk: Our amazingly talented Head Gi...</td>\n",
       "      <td>['skyfall']</td>\n",
       "      <td>Twitter Web App</td>\n",
       "    </tr>\n",
       "    <tr>\n",
       "      <th>...</th>\n",
       "      <td>...</td>\n",
       "      <td>...</td>\n",
       "      <td>...</td>\n",
       "      <td>...</td>\n",
       "      <td>...</td>\n",
       "      <td>...</td>\n",
       "      <td>...</td>\n",
       "      <td>...</td>\n",
       "    </tr>\n",
       "    <tr>\n",
       "      <th>76</th>\n",
       "      <td>TopFilmTip</td>\n",
       "      <td>Tips @ 7pm &amp; 0730 WD/9am WE</td>\n",
       "      <td>Bringing you daily tips for the best films on ...</td>\n",
       "      <td>False</td>\n",
       "      <td>2022-06-05 19:00:05+00:00</td>\n",
       "      <td>Bond hits rock bottom, chats up bad guy, feeds...</td>\n",
       "      <td>NaN</td>\n",
       "      <td>TFT Tweetbot</td>\n",
       "    </tr>\n",
       "    <tr>\n",
       "      <th>77</th>\n",
       "      <td>Sarah Tulk</td>\n",
       "      <td>Birmingham, UK</td>\n",
       "      <td>Artist 🎨 Geek 🖖🏻 Auntie ❤️ PS4 🎮 World of Warc...</td>\n",
       "      <td>False</td>\n",
       "      <td>2022-06-05 18:54:43+00:00</td>\n",
       "      <td>Skyfall and Viennetta.  Now that’s good, solid...</td>\n",
       "      <td>['skyfall', 'viennetta', 'jamesbond', 'danielc...</td>\n",
       "      <td>Twitter for iPhone</td>\n",
       "    </tr>\n",
       "    <tr>\n",
       "      <th>78</th>\n",
       "      <td>Dave 🏳️‍🌈 🍷🔞 🇺🇦</td>\n",
       "      <td>North East, England</td>\n",
       "      <td>New account, starting over, new and previous f...</td>\n",
       "      <td>False</td>\n",
       "      <td>2022-06-05 18:47:37+00:00</td>\n",
       "      <td>Sunday night viewing 007 #skyfall https://t.co...</td>\n",
       "      <td>['skyfall']</td>\n",
       "      <td>Twitter for Android</td>\n",
       "    </tr>\n",
       "    <tr>\n",
       "      <th>79</th>\n",
       "      <td>47th N Chris</td>\n",
       "      <td>San Diego, CA</td>\n",
       "      <td>RICHk R40LLxN...Not to get technical but accor...</td>\n",
       "      <td>False</td>\n",
       "      <td>2022-06-05 17:42:25+00:00</td>\n",
       "      <td>🔥 Each And Every Tuesday #Skyfall https://t.co...</td>\n",
       "      <td>['Skyfall']</td>\n",
       "      <td>Twitter for Android</td>\n",
       "    </tr>\n",
       "    <tr>\n",
       "      <th>80</th>\n",
       "      <td>Nighteaglehawk</td>\n",
       "      <td>NaN</td>\n",
       "      <td>https://t.co/Ybr2dPN1cB</td>\n",
       "      <td>False</td>\n",
       "      <td>2022-06-05 14:22:16+00:00</td>\n",
       "      <td>Time to Live and Let Die. #notimetodie #dieano...</td>\n",
       "      <td>['notimetodie', 'dieanotherday', 'piercebrosna...</td>\n",
       "      <td>Twitter for Android</td>\n",
       "    </tr>\n",
       "  </tbody>\n",
       "</table>\n",
       "<p>81 rows × 8 columns</p>\n",
       "</div>"
      ],
      "text/plain": [
       "                   user_name                   user_location  \\\n",
       "0            Jaakko Viljamaa                  Turku, Finland   \n",
       "1                PJW #FBPE 🔶                       Cambridge   \n",
       "2   His Holiness Peter Gibbs  Bedford vocabulary, Roma heart   \n",
       "3            Lasse Hallström                             NaN   \n",
       "4         Greenwich Hospital                             NaN   \n",
       "..                       ...                             ...   \n",
       "76                TopFilmTip     Tips @ 7pm & 0730 WD/9am WE   \n",
       "77                Sarah Tulk                  Birmingham, UK   \n",
       "78           Dave 🏳️‍🌈 🍷🔞 🇺🇦             North East, England   \n",
       "79              47th N Chris                   San Diego, CA   \n",
       "80            Nighteaglehawk                             NaN   \n",
       "\n",
       "                                     user_description  user_verified  \\\n",
       "0   Vascular surgeon with a special interest in ve...          False   \n",
       "1   Old, tad broken, ex cricketer (of sorts), surv...          False   \n",
       "2                A man out of time, country and mind.          False   \n",
       "3   Die Schlüsselfigur der PLandemie ist Prof. Ste...          False   \n",
       "4   Greenwich Hospital is a unique Crown Charity f...          False   \n",
       "..                                                ...            ...   \n",
       "76  Bringing you daily tips for the best films on ...          False   \n",
       "77  Artist 🎨 Geek 🖖🏻 Auntie ❤️ PS4 🎮 World of Warc...          False   \n",
       "78  New account, starting over, new and previous f...          False   \n",
       "79  RICHk R40LLxN...Not to get technical but accor...          False   \n",
       "80                            https://t.co/Ybr2dPN1cB          False   \n",
       "\n",
       "                         date  \\\n",
       "0   2022-06-13 20:56:48+00:00   \n",
       "1   2022-06-13 19:09:11+00:00   \n",
       "2   2022-06-13 17:28:07+00:00   \n",
       "3   2022-06-13 15:51:52+00:00   \n",
       "4   2022-06-13 15:48:54+00:00   \n",
       "..                        ...   \n",
       "76  2022-06-05 19:00:05+00:00   \n",
       "77  2022-06-05 18:54:43+00:00   \n",
       "78  2022-06-05 18:47:37+00:00   \n",
       "79  2022-06-05 17:42:25+00:00   \n",
       "80  2022-06-05 14:22:16+00:00   \n",
       "\n",
       "                                                 text  \\\n",
       "0   – It's not very comfortable, is it?\\n– Are you...   \n",
       "1   @PaulbernalUK I think such a thing was used in...   \n",
       "2   It's time for #SkyFall been too long https://t...   \n",
       "3   RT @LasseHallstroem: Norman Nathan ft. Martin ...   \n",
       "4   RT @RHSSuffolk: Our amazingly talented Head Gi...   \n",
       "..                                                ...   \n",
       "76  Bond hits rock bottom, chats up bad guy, feeds...   \n",
       "77  Skyfall and Viennetta.  Now that’s good, solid...   \n",
       "78  Sunday night viewing 007 #skyfall https://t.co...   \n",
       "79  🔥 Each And Every Tuesday #Skyfall https://t.co...   \n",
       "80  Time to Live and Let Die. #notimetodie #dieano...   \n",
       "\n",
       "                                             hashtags               source  \n",
       "0                                         ['Skyfall']      Twitter Web App  \n",
       "1                            ['SkyFall', 'JamesBond']      Twitter Web App  \n",
       "2                                         ['SkyFall']  Twitter for Android  \n",
       "3                                         ['SKYFALL']  Twitter for Android  \n",
       "4                                         ['skyfall']      Twitter Web App  \n",
       "..                                                ...                  ...  \n",
       "76                                                NaN         TFT Tweetbot  \n",
       "77  ['skyfall', 'viennetta', 'jamesbond', 'danielc...   Twitter for iPhone  \n",
       "78                                        ['skyfall']  Twitter for Android  \n",
       "79                                        ['Skyfall']  Twitter for Android  \n",
       "80  ['notimetodie', 'dieanotherday', 'piercebrosna...  Twitter for Android  \n",
       "\n",
       "[81 rows x 8 columns]"
      ]
     },
     "execution_count": 5,
     "metadata": {},
     "output_type": "execute_result"
    }
   ],
   "source": [
    "df"
   ]
  },
  {
   "cell_type": "code",
   "execution_count": 6,
   "metadata": {},
   "outputs": [],
   "source": [
    "df=pd.DataFrame(df, columns=[\"text\"])"
   ]
  },
  {
   "cell_type": "code",
   "execution_count": 7,
   "metadata": {},
   "outputs": [
    {
     "data": {
      "text/html": [
       "<div>\n",
       "<style scoped>\n",
       "    .dataframe tbody tr th:only-of-type {\n",
       "        vertical-align: middle;\n",
       "    }\n",
       "\n",
       "    .dataframe tbody tr th {\n",
       "        vertical-align: top;\n",
       "    }\n",
       "\n",
       "    .dataframe thead th {\n",
       "        text-align: right;\n",
       "    }\n",
       "</style>\n",
       "<table border=\"1\" class=\"dataframe\">\n",
       "  <thead>\n",
       "    <tr style=\"text-align: right;\">\n",
       "      <th></th>\n",
       "      <th>text</th>\n",
       "    </tr>\n",
       "  </thead>\n",
       "  <tbody>\n",
       "    <tr>\n",
       "      <th>0</th>\n",
       "      <td>– It's not very comfortable, is it?\\n– Are you...</td>\n",
       "    </tr>\n",
       "    <tr>\n",
       "      <th>1</th>\n",
       "      <td>@PaulbernalUK I think such a thing was used in...</td>\n",
       "    </tr>\n",
       "    <tr>\n",
       "      <th>2</th>\n",
       "      <td>It's time for #SkyFall been too long https://t...</td>\n",
       "    </tr>\n",
       "    <tr>\n",
       "      <th>3</th>\n",
       "      <td>RT @LasseHallstroem: Norman Nathan ft. Martin ...</td>\n",
       "    </tr>\n",
       "    <tr>\n",
       "      <th>4</th>\n",
       "      <td>RT @RHSSuffolk: Our amazingly talented Head Gi...</td>\n",
       "    </tr>\n",
       "  </tbody>\n",
       "</table>\n",
       "</div>"
      ],
      "text/plain": [
       "                                                text\n",
       "0  – It's not very comfortable, is it?\\n– Are you...\n",
       "1  @PaulbernalUK I think such a thing was used in...\n",
       "2  It's time for #SkyFall been too long https://t...\n",
       "3  RT @LasseHallstroem: Norman Nathan ft. Martin ...\n",
       "4  RT @RHSSuffolk: Our amazingly talented Head Gi..."
      ]
     },
     "execution_count": 7,
     "metadata": {},
     "output_type": "execute_result"
    }
   ],
   "source": [
    "df.head()"
   ]
  },
  {
   "cell_type": "code",
   "execution_count": 8,
   "metadata": {},
   "outputs": [],
   "source": [
    "# Data Viz Pkg\n",
    "import matplotlib.pyplot as plt\n",
    "import seaborn as sns\n",
    "# Hide warnings\n",
    "import warnings\n",
    "warnings.filterwarnings('ignore')"
   ]
  },
  {
   "cell_type": "code",
   "execution_count": 11,
   "metadata": {},
   "outputs": [],
   "source": [
    "# Load Text Cleaning Package\n",
    "import neattext.functions as nfx"
   ]
  },
  {
   "cell_type": "code",
   "execution_count": 10,
   "metadata": {},
   "outputs": [
    {
     "name": "stdout",
     "output_type": "stream",
     "text": [
      "Collecting neattext\n",
      "  Downloading neattext-0.1.3-py3-none-any.whl (114 kB)\n",
      "Installing collected packages: neattext\n",
      "Successfully installed neattext-0.1.3\n"
     ]
    },
    {
     "name": "stderr",
     "output_type": "stream",
     "text": [
      "WARNING: Retrying (Retry(total=4, connect=None, read=None, redirect=None, status=None)) after connection broken by 'ProtocolError('Connection aborted.', ConnectionResetError(10054, 'An existing connection was forcibly closed by the remote host', None, 10054, None))': /simple/neattext/\n"
     ]
    }
   ],
   "source": [
    "!pip install neattext"
   ]
  },
  {
   "cell_type": "code",
   "execution_count": 12,
   "metadata": {},
   "outputs": [
    {
     "data": {
      "text/plain": [
       "0    – It's not very comfortable, is it?\\n– Are you...\n",
       "1    @PaulbernalUK I think such a thing was used in...\n",
       "2    It's time for #SkyFall been too long https://t...\n",
       "3    RT @LasseHallstroem: Norman Nathan ft. Martin ...\n",
       "4    RT @RHSSuffolk: Our amazingly talented Head Gi...\n",
       "Name: text, dtype: object"
      ]
     },
     "execution_count": 12,
     "metadata": {},
     "output_type": "execute_result"
    }
   ],
   "source": [
    "df[\"text\"].head()"
   ]
  },
  {
   "cell_type": "code",
   "execution_count": 13,
   "metadata": {},
   "outputs": [
    {
     "data": {
      "text/plain": [
       "'RT @RHSSuffolk: Our amazingly talented Head Girl, Jazz S, performs #skyfall with the \\u2066@RMSchoolofMusic\\u2069 overlooking the stunning #riverstou…'"
      ]
     },
     "execution_count": 13,
     "metadata": {},
     "output_type": "execute_result"
    }
   ],
   "source": [
    "df['text'].iloc[10]"
   ]
  },
  {
   "cell_type": "code",
   "execution_count": 15,
   "metadata": {},
   "outputs": [
    {
     "data": {
      "text/plain": [
       "0                                            [#Skyfall]\n",
       "1                                [#SkyFall, #JamesBond]\n",
       "2                                            [#SkyFall]\n",
       "3                                            [#SKYFALL]\n",
       "4                               [#skyfall, #riverstou…]\n",
       "                            ...                        \n",
       "76                                 [#SKYFALL, #SKYFALL]\n",
       "77    [#skyfall, #viennetta, #jamesbond, #danielcrai...\n",
       "78                                           [#skyfall]\n",
       "79                                           [#Skyfall]\n",
       "80    [#notimetodie, #dieanotherday, #piercebrosnan,...\n",
       "Name: text, Length: 81, dtype: object"
      ]
     },
     "execution_count": 15,
     "metadata": {},
     "output_type": "execute_result"
    }
   ],
   "source": [
    "df['text'].apply(nfx.extract_hashtags)"
   ]
  },
  {
   "cell_type": "code",
   "execution_count": 15,
   "metadata": {},
   "outputs": [],
   "source": [
    "# Cleaning Text\n",
    "df['clean_tweet'] = df['text'].apply(nfx.remove_hashtags)"
   ]
  },
  {
   "cell_type": "code",
   "execution_count": 16,
   "metadata": {},
   "outputs": [
    {
     "data": {
      "text/html": [
       "<div>\n",
       "<style scoped>\n",
       "    .dataframe tbody tr th:only-of-type {\n",
       "        vertical-align: middle;\n",
       "    }\n",
       "\n",
       "    .dataframe tbody tr th {\n",
       "        vertical-align: top;\n",
       "    }\n",
       "\n",
       "    .dataframe thead th {\n",
       "        text-align: right;\n",
       "    }\n",
       "</style>\n",
       "<table border=\"1\" class=\"dataframe\">\n",
       "  <thead>\n",
       "    <tr style=\"text-align: right;\">\n",
       "      <th></th>\n",
       "      <th>text</th>\n",
       "      <th>clean_tweet</th>\n",
       "    </tr>\n",
       "  </thead>\n",
       "  <tbody>\n",
       "    <tr>\n",
       "      <th>0</th>\n",
       "      <td>– It's not very comfortable, is it?\\n– Are you...</td>\n",
       "      <td>– It's not very comfortable, is it?\\n– Are you...</td>\n",
       "    </tr>\n",
       "    <tr>\n",
       "      <th>1</th>\n",
       "      <td>@PaulbernalUK I think such a thing was used in...</td>\n",
       "      <td>@PaulbernalUK I think such a thing was used in...</td>\n",
       "    </tr>\n",
       "    <tr>\n",
       "      <th>2</th>\n",
       "      <td>It's time for #SkyFall been too long https://t...</td>\n",
       "      <td>It's time for   been too long https://t.co/DM4...</td>\n",
       "    </tr>\n",
       "    <tr>\n",
       "      <th>3</th>\n",
       "      <td>RT @LasseHallstroem: Norman Nathan ft. Martin ...</td>\n",
       "      <td>RT @LasseHallstroem: Norman Nathan ft. Martin ...</td>\n",
       "    </tr>\n",
       "    <tr>\n",
       "      <th>4</th>\n",
       "      <td>RT @RHSSuffolk: Our amazingly talented Head Gi...</td>\n",
       "      <td>RT @RHSSuffolk: Our amazingly talented Head Gi...</td>\n",
       "    </tr>\n",
       "    <tr>\n",
       "      <th>...</th>\n",
       "      <td>...</td>\n",
       "      <td>...</td>\n",
       "    </tr>\n",
       "    <tr>\n",
       "      <th>76</th>\n",
       "      <td>Bond hits rock bottom, chats up bad guy, feeds...</td>\n",
       "      <td>Bond hits rock bottom, chats up bad guy, feeds...</td>\n",
       "    </tr>\n",
       "    <tr>\n",
       "      <th>77</th>\n",
       "      <td>Skyfall and Viennetta.  Now that’s good, solid...</td>\n",
       "      <td>Skyfall and Viennetta.  Now that’s good, solid...</td>\n",
       "    </tr>\n",
       "    <tr>\n",
       "      <th>78</th>\n",
       "      <td>Sunday night viewing 007 #skyfall https://t.co...</td>\n",
       "      <td>Sunday night viewing 007   https://t.co/F80F8U...</td>\n",
       "    </tr>\n",
       "    <tr>\n",
       "      <th>79</th>\n",
       "      <td>🔥 Each And Every Tuesday #Skyfall https://t.co...</td>\n",
       "      <td>🔥 Each And Every Tuesday   https://t.co/keSNnE...</td>\n",
       "    </tr>\n",
       "    <tr>\n",
       "      <th>80</th>\n",
       "      <td>Time to Live and Let Die. #notimetodie #dieano...</td>\n",
       "      <td>Time to Live and Let Die.                     ...</td>\n",
       "    </tr>\n",
       "  </tbody>\n",
       "</table>\n",
       "<p>81 rows × 2 columns</p>\n",
       "</div>"
      ],
      "text/plain": [
       "                                                 text  \\\n",
       "0   – It's not very comfortable, is it?\\n– Are you...   \n",
       "1   @PaulbernalUK I think such a thing was used in...   \n",
       "2   It's time for #SkyFall been too long https://t...   \n",
       "3   RT @LasseHallstroem: Norman Nathan ft. Martin ...   \n",
       "4   RT @RHSSuffolk: Our amazingly talented Head Gi...   \n",
       "..                                                ...   \n",
       "76  Bond hits rock bottom, chats up bad guy, feeds...   \n",
       "77  Skyfall and Viennetta.  Now that’s good, solid...   \n",
       "78  Sunday night viewing 007 #skyfall https://t.co...   \n",
       "79  🔥 Each And Every Tuesday #Skyfall https://t.co...   \n",
       "80  Time to Live and Let Die. #notimetodie #dieano...   \n",
       "\n",
       "                                          clean_tweet  \n",
       "0   – It's not very comfortable, is it?\\n– Are you...  \n",
       "1   @PaulbernalUK I think such a thing was used in...  \n",
       "2   It's time for   been too long https://t.co/DM4...  \n",
       "3   RT @LasseHallstroem: Norman Nathan ft. Martin ...  \n",
       "4   RT @RHSSuffolk: Our amazingly talented Head Gi...  \n",
       "..                                                ...  \n",
       "76  Bond hits rock bottom, chats up bad guy, feeds...  \n",
       "77  Skyfall and Viennetta.  Now that’s good, solid...  \n",
       "78  Sunday night viewing 007   https://t.co/F80F8U...  \n",
       "79  🔥 Each And Every Tuesday   https://t.co/keSNnE...  \n",
       "80  Time to Live and Let Die.                     ...  \n",
       "\n",
       "[81 rows x 2 columns]"
      ]
     },
     "execution_count": 16,
     "metadata": {},
     "output_type": "execute_result"
    }
   ],
   "source": [
    "df[['text','clean_tweet']]"
   ]
  },
  {
   "cell_type": "code",
   "execution_count": 17,
   "metadata": {},
   "outputs": [],
   "source": [
    "df['clean_tweet'] = df['clean_tweet'].apply(lambda x: nfx.remove_userhandles(x))"
   ]
  },
  {
   "cell_type": "code",
   "execution_count": 19,
   "metadata": {},
   "outputs": [
    {
     "data": {
      "text/html": [
       "<div>\n",
       "<style scoped>\n",
       "    .dataframe tbody tr th:only-of-type {\n",
       "        vertical-align: middle;\n",
       "    }\n",
       "\n",
       "    .dataframe tbody tr th {\n",
       "        vertical-align: top;\n",
       "    }\n",
       "\n",
       "    .dataframe thead th {\n",
       "        text-align: right;\n",
       "    }\n",
       "</style>\n",
       "<table border=\"1\" class=\"dataframe\">\n",
       "  <thead>\n",
       "    <tr style=\"text-align: right;\">\n",
       "      <th></th>\n",
       "      <th>text</th>\n",
       "      <th>clean_tweet</th>\n",
       "    </tr>\n",
       "  </thead>\n",
       "  <tbody>\n",
       "    <tr>\n",
       "      <th>0</th>\n",
       "      <td>– It's not very comfortable, is it?\\n– Are you...</td>\n",
       "      <td>– It's not very comfortable, is it?\\n– Are you...</td>\n",
       "    </tr>\n",
       "    <tr>\n",
       "      <th>1</th>\n",
       "      <td>@PaulbernalUK I think such a thing was used in...</td>\n",
       "      <td>I think such a thing was used in a quote in ...</td>\n",
       "    </tr>\n",
       "    <tr>\n",
       "      <th>2</th>\n",
       "      <td>It's time for #SkyFall been too long https://t...</td>\n",
       "      <td>It's time for   been too long https://t.co/DM4...</td>\n",
       "    </tr>\n",
       "    <tr>\n",
       "      <th>3</th>\n",
       "      <td>RT @LasseHallstroem: Norman Nathan ft. Martin ...</td>\n",
       "      <td>RT   Norman Nathan ft. Martin Gerloff\\n\\n  👍👍👍...</td>\n",
       "    </tr>\n",
       "    <tr>\n",
       "      <th>4</th>\n",
       "      <td>RT @RHSSuffolk: Our amazingly talented Head Gi...</td>\n",
       "      <td>RT   Our amazingly talented Head Girl, Jazz S,...</td>\n",
       "    </tr>\n",
       "    <tr>\n",
       "      <th>...</th>\n",
       "      <td>...</td>\n",
       "      <td>...</td>\n",
       "    </tr>\n",
       "    <tr>\n",
       "      <th>76</th>\n",
       "      <td>Bond hits rock bottom, chats up bad guy, feeds...</td>\n",
       "      <td>Bond hits rock bottom, chats up bad guy, feeds...</td>\n",
       "    </tr>\n",
       "    <tr>\n",
       "      <th>77</th>\n",
       "      <td>Skyfall and Viennetta.  Now that’s good, solid...</td>\n",
       "      <td>Skyfall and Viennetta.  Now that’s good, solid...</td>\n",
       "    </tr>\n",
       "    <tr>\n",
       "      <th>78</th>\n",
       "      <td>Sunday night viewing 007 #skyfall https://t.co...</td>\n",
       "      <td>Sunday night viewing 007   https://t.co/F80F8U...</td>\n",
       "    </tr>\n",
       "    <tr>\n",
       "      <th>79</th>\n",
       "      <td>🔥 Each And Every Tuesday #Skyfall https://t.co...</td>\n",
       "      <td>🔥 Each And Every Tuesday   https://t.co/keSNnE...</td>\n",
       "    </tr>\n",
       "    <tr>\n",
       "      <th>80</th>\n",
       "      <td>Time to Live and Let Die. #notimetodie #dieano...</td>\n",
       "      <td>Time to Live and Let Die.                     ...</td>\n",
       "    </tr>\n",
       "  </tbody>\n",
       "</table>\n",
       "<p>81 rows × 2 columns</p>\n",
       "</div>"
      ],
      "text/plain": [
       "                                                 text  \\\n",
       "0   – It's not very comfortable, is it?\\n– Are you...   \n",
       "1   @PaulbernalUK I think such a thing was used in...   \n",
       "2   It's time for #SkyFall been too long https://t...   \n",
       "3   RT @LasseHallstroem: Norman Nathan ft. Martin ...   \n",
       "4   RT @RHSSuffolk: Our amazingly talented Head Gi...   \n",
       "..                                                ...   \n",
       "76  Bond hits rock bottom, chats up bad guy, feeds...   \n",
       "77  Skyfall and Viennetta.  Now that’s good, solid...   \n",
       "78  Sunday night viewing 007 #skyfall https://t.co...   \n",
       "79  🔥 Each And Every Tuesday #Skyfall https://t.co...   \n",
       "80  Time to Live and Let Die. #notimetodie #dieano...   \n",
       "\n",
       "                                          clean_tweet  \n",
       "0   – It's not very comfortable, is it?\\n– Are you...  \n",
       "1     I think such a thing was used in a quote in ...  \n",
       "2   It's time for   been too long https://t.co/DM4...  \n",
       "3   RT   Norman Nathan ft. Martin Gerloff\\n\\n  👍👍👍...  \n",
       "4   RT   Our amazingly talented Head Girl, Jazz S,...  \n",
       "..                                                ...  \n",
       "76  Bond hits rock bottom, chats up bad guy, feeds...  \n",
       "77  Skyfall and Viennetta.  Now that’s good, solid...  \n",
       "78  Sunday night viewing 007   https://t.co/F80F8U...  \n",
       "79  🔥 Each And Every Tuesday   https://t.co/keSNnE...  \n",
       "80  Time to Live and Let Die.                     ...  \n",
       "\n",
       "[81 rows x 2 columns]"
      ]
     },
     "execution_count": 19,
     "metadata": {},
     "output_type": "execute_result"
    }
   ],
   "source": [
    "df[['text','clean_tweet']]"
   ]
  },
  {
   "cell_type": "code",
   "execution_count": 20,
   "metadata": {},
   "outputs": [],
   "source": [
    "df['clean_tweet'] = df['clean_tweet'].apply(nfx.remove_multiple_spaces)"
   ]
  },
  {
   "cell_type": "code",
   "execution_count": 21,
   "metadata": {},
   "outputs": [],
   "source": [
    "# Cleaning Text : Remove urls\n",
    "df['clean_tweet'] = df['clean_tweet'].apply(nfx.remove_urls)"
   ]
  },
  {
   "cell_type": "code",
   "execution_count": 22,
   "metadata": {},
   "outputs": [],
   "source": [
    "# Cleaning Text: Punctuations\n",
    "df['clean_tweet'] = df['clean_tweet'].apply(nfx.remove_puncts)"
   ]
  },
  {
   "cell_type": "code",
   "execution_count": 23,
   "metadata": {},
   "outputs": [
    {
     "data": {
      "text/html": [
       "<div>\n",
       "<style scoped>\n",
       "    .dataframe tbody tr th:only-of-type {\n",
       "        vertical-align: middle;\n",
       "    }\n",
       "\n",
       "    .dataframe tbody tr th {\n",
       "        vertical-align: top;\n",
       "    }\n",
       "\n",
       "    .dataframe thead th {\n",
       "        text-align: right;\n",
       "    }\n",
       "</style>\n",
       "<table border=\"1\" class=\"dataframe\">\n",
       "  <thead>\n",
       "    <tr style=\"text-align: right;\">\n",
       "      <th></th>\n",
       "      <th>text</th>\n",
       "      <th>clean_tweet</th>\n",
       "    </tr>\n",
       "  </thead>\n",
       "  <tbody>\n",
       "    <tr>\n",
       "      <th>0</th>\n",
       "      <td>– It's not very comfortable, is it?\\n– Are you...</td>\n",
       "      <td>– Its not very comfortable is it\\n– Are you go...</td>\n",
       "    </tr>\n",
       "    <tr>\n",
       "      <th>1</th>\n",
       "      <td>@PaulbernalUK I think such a thing was used in...</td>\n",
       "      <td>I think such a thing was used in a quote in t...</td>\n",
       "    </tr>\n",
       "    <tr>\n",
       "      <th>2</th>\n",
       "      <td>It's time for #SkyFall been too long https://t...</td>\n",
       "      <td>Its time for been too long</td>\n",
       "    </tr>\n",
       "    <tr>\n",
       "      <th>3</th>\n",
       "      <td>RT @LasseHallstroem: Norman Nathan ft. Martin ...</td>\n",
       "      <td>RT Norman Nathan ft Martin Gerloff 👍👍👍 (Epic M...</td>\n",
       "    </tr>\n",
       "    <tr>\n",
       "      <th>4</th>\n",
       "      <td>RT @RHSSuffolk: Our amazingly talented Head Gi...</td>\n",
       "      <td>RT Our amazingly talented Head Girl Jazz S per...</td>\n",
       "    </tr>\n",
       "    <tr>\n",
       "      <th>...</th>\n",
       "      <td>...</td>\n",
       "      <td>...</td>\n",
       "    </tr>\n",
       "    <tr>\n",
       "      <th>76</th>\n",
       "      <td>Bond hits rock bottom, chats up bad guy, feeds...</td>\n",
       "      <td>Bond hits rock bottom chats up bad guy feeds h...</td>\n",
       "    </tr>\n",
       "    <tr>\n",
       "      <th>77</th>\n",
       "      <td>Skyfall and Viennetta.  Now that’s good, solid...</td>\n",
       "      <td>Skyfall and Viennetta Now that’s good solid Su...</td>\n",
       "    </tr>\n",
       "    <tr>\n",
       "      <th>78</th>\n",
       "      <td>Sunday night viewing 007 #skyfall https://t.co...</td>\n",
       "      <td>Sunday night viewing 007</td>\n",
       "    </tr>\n",
       "    <tr>\n",
       "      <th>79</th>\n",
       "      <td>🔥 Each And Every Tuesday #Skyfall https://t.co...</td>\n",
       "      <td>🔥 Each And Every Tuesday</td>\n",
       "    </tr>\n",
       "    <tr>\n",
       "      <th>80</th>\n",
       "      <td>Time to Live and Let Die. #notimetodie #dieano...</td>\n",
       "      <td>Time to Live and Let Die</td>\n",
       "    </tr>\n",
       "  </tbody>\n",
       "</table>\n",
       "<p>81 rows × 2 columns</p>\n",
       "</div>"
      ],
      "text/plain": [
       "                                                 text  \\\n",
       "0   – It's not very comfortable, is it?\\n– Are you...   \n",
       "1   @PaulbernalUK I think such a thing was used in...   \n",
       "2   It's time for #SkyFall been too long https://t...   \n",
       "3   RT @LasseHallstroem: Norman Nathan ft. Martin ...   \n",
       "4   RT @RHSSuffolk: Our amazingly talented Head Gi...   \n",
       "..                                                ...   \n",
       "76  Bond hits rock bottom, chats up bad guy, feeds...   \n",
       "77  Skyfall and Viennetta.  Now that’s good, solid...   \n",
       "78  Sunday night viewing 007 #skyfall https://t.co...   \n",
       "79  🔥 Each And Every Tuesday #Skyfall https://t.co...   \n",
       "80  Time to Live and Let Die. #notimetodie #dieano...   \n",
       "\n",
       "                                          clean_tweet  \n",
       "0   – Its not very comfortable is it\\n– Are you go...  \n",
       "1    I think such a thing was used in a quote in t...  \n",
       "2                         Its time for been too long   \n",
       "3   RT Norman Nathan ft Martin Gerloff 👍👍👍 (Epic M...  \n",
       "4   RT Our amazingly talented Head Girl Jazz S per...  \n",
       "..                                                ...  \n",
       "76  Bond hits rock bottom chats up bad guy feeds h...  \n",
       "77  Skyfall and Viennetta Now that’s good solid Su...  \n",
       "78                          Sunday night viewing 007   \n",
       "79                          🔥 Each And Every Tuesday   \n",
       "80                          Time to Live and Let Die   \n",
       "\n",
       "[81 rows x 2 columns]"
      ]
     },
     "execution_count": 23,
     "metadata": {},
     "output_type": "execute_result"
    }
   ],
   "source": [
    "df[['text','clean_tweet']]"
   ]
  },
  {
   "cell_type": "code",
   "execution_count": 24,
   "metadata": {},
   "outputs": [],
   "source": [
    "# Cleaning Text: Punctuations\n",
    "df['clean_tweet'] = df['clean_tweet'].apply(nfx.remove_emojis)\n"
   ]
  },
  {
   "cell_type": "code",
   "execution_count": 25,
   "metadata": {},
   "outputs": [
    {
     "data": {
      "text/html": [
       "<div>\n",
       "<style scoped>\n",
       "    .dataframe tbody tr th:only-of-type {\n",
       "        vertical-align: middle;\n",
       "    }\n",
       "\n",
       "    .dataframe tbody tr th {\n",
       "        vertical-align: top;\n",
       "    }\n",
       "\n",
       "    .dataframe thead th {\n",
       "        text-align: right;\n",
       "    }\n",
       "</style>\n",
       "<table border=\"1\" class=\"dataframe\">\n",
       "  <thead>\n",
       "    <tr style=\"text-align: right;\">\n",
       "      <th></th>\n",
       "      <th>text</th>\n",
       "      <th>clean_tweet</th>\n",
       "    </tr>\n",
       "  </thead>\n",
       "  <tbody>\n",
       "    <tr>\n",
       "      <th>0</th>\n",
       "      <td>– It's not very comfortable, is it?\\n– Are you...</td>\n",
       "      <td>– Its not very comfortable is it\\n– Are you go...</td>\n",
       "    </tr>\n",
       "    <tr>\n",
       "      <th>1</th>\n",
       "      <td>@PaulbernalUK I think such a thing was used in...</td>\n",
       "      <td>I think such a thing was used in a quote in t...</td>\n",
       "    </tr>\n",
       "    <tr>\n",
       "      <th>2</th>\n",
       "      <td>It's time for #SkyFall been too long https://t...</td>\n",
       "      <td>Its time for been too long</td>\n",
       "    </tr>\n",
       "    <tr>\n",
       "      <th>3</th>\n",
       "      <td>RT @LasseHallstroem: Norman Nathan ft. Martin ...</td>\n",
       "      <td>RT Norman Nathan ft Martin Gerloff  (Epic Meta...</td>\n",
       "    </tr>\n",
       "    <tr>\n",
       "      <th>4</th>\n",
       "      <td>RT @RHSSuffolk: Our amazingly talented Head Gi...</td>\n",
       "      <td>RT Our amazingly talented Head Girl Jazz S per...</td>\n",
       "    </tr>\n",
       "    <tr>\n",
       "      <th>...</th>\n",
       "      <td>...</td>\n",
       "      <td>...</td>\n",
       "    </tr>\n",
       "    <tr>\n",
       "      <th>76</th>\n",
       "      <td>Bond hits rock bottom, chats up bad guy, feeds...</td>\n",
       "      <td>Bond hits rock bottom chats up bad guy feeds h...</td>\n",
       "    </tr>\n",
       "    <tr>\n",
       "      <th>77</th>\n",
       "      <td>Skyfall and Viennetta.  Now that’s good, solid...</td>\n",
       "      <td>Skyfall and Viennetta Now that’s good solid Su...</td>\n",
       "    </tr>\n",
       "    <tr>\n",
       "      <th>78</th>\n",
       "      <td>Sunday night viewing 007 #skyfall https://t.co...</td>\n",
       "      <td>Sunday night viewing 007</td>\n",
       "    </tr>\n",
       "    <tr>\n",
       "      <th>79</th>\n",
       "      <td>🔥 Each And Every Tuesday #Skyfall https://t.co...</td>\n",
       "      <td>Each And Every Tuesday</td>\n",
       "    </tr>\n",
       "    <tr>\n",
       "      <th>80</th>\n",
       "      <td>Time to Live and Let Die. #notimetodie #dieano...</td>\n",
       "      <td>Time to Live and Let Die</td>\n",
       "    </tr>\n",
       "  </tbody>\n",
       "</table>\n",
       "<p>81 rows × 2 columns</p>\n",
       "</div>"
      ],
      "text/plain": [
       "                                                 text  \\\n",
       "0   – It's not very comfortable, is it?\\n– Are you...   \n",
       "1   @PaulbernalUK I think such a thing was used in...   \n",
       "2   It's time for #SkyFall been too long https://t...   \n",
       "3   RT @LasseHallstroem: Norman Nathan ft. Martin ...   \n",
       "4   RT @RHSSuffolk: Our amazingly talented Head Gi...   \n",
       "..                                                ...   \n",
       "76  Bond hits rock bottom, chats up bad guy, feeds...   \n",
       "77  Skyfall and Viennetta.  Now that’s good, solid...   \n",
       "78  Sunday night viewing 007 #skyfall https://t.co...   \n",
       "79  🔥 Each And Every Tuesday #Skyfall https://t.co...   \n",
       "80  Time to Live and Let Die. #notimetodie #dieano...   \n",
       "\n",
       "                                          clean_tweet  \n",
       "0   – Its not very comfortable is it\\n– Are you go...  \n",
       "1    I think such a thing was used in a quote in t...  \n",
       "2                         Its time for been too long   \n",
       "3   RT Norman Nathan ft Martin Gerloff  (Epic Meta...  \n",
       "4   RT Our amazingly talented Head Girl Jazz S per...  \n",
       "..                                                ...  \n",
       "76  Bond hits rock bottom chats up bad guy feeds h...  \n",
       "77  Skyfall and Viennetta Now that’s good solid Su...  \n",
       "78                          Sunday night viewing 007   \n",
       "79                            Each And Every Tuesday   \n",
       "80                          Time to Live and Let Die   \n",
       "\n",
       "[81 rows x 2 columns]"
      ]
     },
     "execution_count": 25,
     "metadata": {},
     "output_type": "execute_result"
    }
   ],
   "source": [
    "df[['text','clean_tweet']]"
   ]
  },
  {
   "cell_type": "code",
   "execution_count": 21,
   "metadata": {},
   "outputs": [
    {
     "name": "stdout",
     "output_type": "stream",
     "text": [
      "Collecting textblob\n",
      "  Downloading textblob-0.17.1-py2.py3-none-any.whl (636 kB)\n",
      "Requirement already satisfied: nltk>=3.1 in c:\\users\\rahul\\anaconda3\\lib\\site-packages (from textblob) (3.6.5)\n",
      "Requirement already satisfied: click in c:\\users\\rahul\\anaconda3\\lib\\site-packages (from nltk>=3.1->textblob) (8.0.3)\n",
      "Requirement already satisfied: joblib in c:\\users\\rahul\\anaconda3\\lib\\site-packages (from nltk>=3.1->textblob) (1.1.0)\n",
      "Requirement already satisfied: regex>=2021.8.3 in c:\\users\\rahul\\anaconda3\\lib\\site-packages (from nltk>=3.1->textblob) (2021.8.3)\n",
      "Requirement already satisfied: tqdm in c:\\users\\rahul\\anaconda3\\lib\\site-packages (from nltk>=3.1->textblob) (4.62.3)\n",
      "Requirement already satisfied: colorama in c:\\users\\rahul\\anaconda3\\lib\\site-packages (from click->nltk>=3.1->textblob) (0.4.4)\n",
      "Installing collected packages: textblob\n",
      "Successfully installed textblob-0.17.1\n",
      "Note: you may need to restart the kernel to use updated packages.\n"
     ]
    }
   ],
   "source": [
    "pip install textblob "
   ]
  },
  {
   "cell_type": "code",
   "execution_count": 22,
   "metadata": {},
   "outputs": [],
   "source": [
    "from textblob import TextBlob"
   ]
  },
  {
   "cell_type": "code",
   "execution_count": null,
   "metadata": {},
   "outputs": [],
   "source": []
  },
  {
   "cell_type": "code",
   "execution_count": 28,
   "metadata": {},
   "outputs": [],
   "source": [
    "def get_sentiment(text):\n",
    "    blob = TextBlob(text)\n",
    "    sentiment_polarity = blob.sentiment.polarity\n",
    "    sentiment_subjectivity = blob.sentiment.subjectivity\n",
    "    if sentiment_polarity > 0:\n",
    "        sentiment_label = 'Positive'\n",
    "    elif sentiment_polarity < 0:\n",
    "        sentiment_label = 'Negative'\n",
    "    else:\n",
    "        sentiment_label = 'Neutral'\n",
    "    result = {'polarity':sentiment_polarity,\n",
    "            'subjectivity':sentiment_subjectivity,\n",
    "            'sentiment':sentiment_label}\n",
    "    return result"
   ]
  },
  {
   "cell_type": "code",
   "execution_count": 29,
   "metadata": {},
   "outputs": [],
   "source": [
    "ex1 = df['clean_tweet'].iloc[1]"
   ]
  },
  {
   "cell_type": "code",
   "execution_count": 30,
   "metadata": {},
   "outputs": [
    {
     "data": {
      "text/plain": [
       "{'polarity': 0.0, 'subjectivity': 0.25, 'sentiment': 'Neutral'}"
      ]
     },
     "execution_count": 30,
     "metadata": {},
     "output_type": "execute_result"
    }
   ],
   "source": [
    "get_sentiment(ex1)"
   ]
  },
  {
   "cell_type": "code",
   "execution_count": 31,
   "metadata": {},
   "outputs": [],
   "source": [
    "df['sentiment_results'] = df['clean_tweet'].apply(get_sentiment)"
   ]
  },
  {
   "cell_type": "code",
   "execution_count": 32,
   "metadata": {},
   "outputs": [
    {
     "data": {
      "text/plain": [
       "0     {'polarity': -0.15384615384615385, 'subjectivi...\n",
       "1     {'polarity': 0.0, 'subjectivity': 0.25, 'senti...\n",
       "2     {'polarity': -0.05, 'subjectivity': 0.4, 'sent...\n",
       "3     {'polarity': 0.1, 'subjectivity': 0.4, 'sentim...\n",
       "4     {'polarity': 0.6, 'subjectivity': 0.95, 'senti...\n",
       "                            ...                        \n",
       "76    {'polarity': -0.23333333333333328, 'subjectivi...\n",
       "77    {'polarity': 0.35, 'subjectivity': 0.350000000...\n",
       "78    {'polarity': 0.0, 'subjectivity': 0.0, 'sentim...\n",
       "79    {'polarity': 0.0, 'subjectivity': 0.0, 'sentim...\n",
       "80    {'polarity': 0.13636363636363635, 'subjectivit...\n",
       "Name: sentiment_results, Length: 81, dtype: object"
      ]
     },
     "execution_count": 32,
     "metadata": {},
     "output_type": "execute_result"
    }
   ],
   "source": [
    "df['sentiment_results']"
   ]
  },
  {
   "cell_type": "code",
   "execution_count": 33,
   "metadata": {},
   "outputs": [
    {
     "data": {
      "text/plain": [
       "{'polarity': 0.0, 'subjectivity': 0.25, 'sentiment': 'Neutral'}"
      ]
     },
     "execution_count": 33,
     "metadata": {},
     "output_type": "execute_result"
    }
   ],
   "source": [
    "df['sentiment_results'].iloc[1]"
   ]
  },
  {
   "cell_type": "code",
   "execution_count": 34,
   "metadata": {},
   "outputs": [
    {
     "data": {
      "text/html": [
       "<div>\n",
       "<style scoped>\n",
       "    .dataframe tbody tr th:only-of-type {\n",
       "        vertical-align: middle;\n",
       "    }\n",
       "\n",
       "    .dataframe tbody tr th {\n",
       "        vertical-align: top;\n",
       "    }\n",
       "\n",
       "    .dataframe thead th {\n",
       "        text-align: right;\n",
       "    }\n",
       "</style>\n",
       "<table border=\"1\" class=\"dataframe\">\n",
       "  <thead>\n",
       "    <tr style=\"text-align: right;\">\n",
       "      <th></th>\n",
       "      <th>polarity</th>\n",
       "      <th>subjectivity</th>\n",
       "      <th>sentiment</th>\n",
       "    </tr>\n",
       "  </thead>\n",
       "  <tbody>\n",
       "    <tr>\n",
       "      <th>0</th>\n",
       "      <td>0.0</td>\n",
       "      <td>0.25</td>\n",
       "      <td>Neutral</td>\n",
       "    </tr>\n",
       "  </tbody>\n",
       "</table>\n",
       "</div>"
      ],
      "text/plain": [
       "   polarity  subjectivity sentiment\n",
       "0       0.0          0.25   Neutral"
      ]
     },
     "execution_count": 34,
     "metadata": {},
     "output_type": "execute_result"
    }
   ],
   "source": [
    "pd.json_normalize(df['sentiment_results'].iloc[1])"
   ]
  },
  {
   "cell_type": "code",
   "execution_count": 35,
   "metadata": {},
   "outputs": [],
   "source": [
    "df = df.join(pd.json_normalize(df['sentiment_results']))"
   ]
  },
  {
   "cell_type": "code",
   "execution_count": 36,
   "metadata": {},
   "outputs": [
    {
     "data": {
      "text/html": [
       "<div>\n",
       "<style scoped>\n",
       "    .dataframe tbody tr th:only-of-type {\n",
       "        vertical-align: middle;\n",
       "    }\n",
       "\n",
       "    .dataframe tbody tr th {\n",
       "        vertical-align: top;\n",
       "    }\n",
       "\n",
       "    .dataframe thead th {\n",
       "        text-align: right;\n",
       "    }\n",
       "</style>\n",
       "<table border=\"1\" class=\"dataframe\">\n",
       "  <thead>\n",
       "    <tr style=\"text-align: right;\">\n",
       "      <th></th>\n",
       "      <th>text</th>\n",
       "      <th>clean_tweet</th>\n",
       "      <th>sentiment_results</th>\n",
       "      <th>polarity</th>\n",
       "      <th>subjectivity</th>\n",
       "      <th>sentiment</th>\n",
       "    </tr>\n",
       "  </thead>\n",
       "  <tbody>\n",
       "    <tr>\n",
       "      <th>0</th>\n",
       "      <td>– It's not very comfortable, is it?\\n– Are you...</td>\n",
       "      <td>– Its not very comfortable is it\\n– Are you go...</td>\n",
       "      <td>{'polarity': -0.15384615384615385, 'subjectivi...</td>\n",
       "      <td>-0.153846</td>\n",
       "      <td>0.615385</td>\n",
       "      <td>Negative</td>\n",
       "    </tr>\n",
       "    <tr>\n",
       "      <th>1</th>\n",
       "      <td>@PaulbernalUK I think such a thing was used in...</td>\n",
       "      <td>I think such a thing was used in a quote in t...</td>\n",
       "      <td>{'polarity': 0.0, 'subjectivity': 0.25, 'senti...</td>\n",
       "      <td>0.000000</td>\n",
       "      <td>0.250000</td>\n",
       "      <td>Neutral</td>\n",
       "    </tr>\n",
       "    <tr>\n",
       "      <th>2</th>\n",
       "      <td>It's time for #SkyFall been too long https://t...</td>\n",
       "      <td>Its time for been too long</td>\n",
       "      <td>{'polarity': -0.05, 'subjectivity': 0.4, 'sent...</td>\n",
       "      <td>-0.050000</td>\n",
       "      <td>0.400000</td>\n",
       "      <td>Negative</td>\n",
       "    </tr>\n",
       "    <tr>\n",
       "      <th>3</th>\n",
       "      <td>RT @LasseHallstroem: Norman Nathan ft. Martin ...</td>\n",
       "      <td>RT Norman Nathan ft Martin Gerloff  (Epic Meta...</td>\n",
       "      <td>{'polarity': 0.1, 'subjectivity': 0.4, 'sentim...</td>\n",
       "      <td>0.100000</td>\n",
       "      <td>0.400000</td>\n",
       "      <td>Positive</td>\n",
       "    </tr>\n",
       "    <tr>\n",
       "      <th>4</th>\n",
       "      <td>RT @RHSSuffolk: Our amazingly talented Head Gi...</td>\n",
       "      <td>RT Our amazingly talented Head Girl Jazz S per...</td>\n",
       "      <td>{'polarity': 0.6, 'subjectivity': 0.95, 'senti...</td>\n",
       "      <td>0.600000</td>\n",
       "      <td>0.950000</td>\n",
       "      <td>Positive</td>\n",
       "    </tr>\n",
       "  </tbody>\n",
       "</table>\n",
       "</div>"
      ],
      "text/plain": [
       "                                                text  \\\n",
       "0  – It's not very comfortable, is it?\\n– Are you...   \n",
       "1  @PaulbernalUK I think such a thing was used in...   \n",
       "2  It's time for #SkyFall been too long https://t...   \n",
       "3  RT @LasseHallstroem: Norman Nathan ft. Martin ...   \n",
       "4  RT @RHSSuffolk: Our amazingly talented Head Gi...   \n",
       "\n",
       "                                         clean_tweet  \\\n",
       "0  – Its not very comfortable is it\\n– Are you go...   \n",
       "1   I think such a thing was used in a quote in t...   \n",
       "2                        Its time for been too long    \n",
       "3  RT Norman Nathan ft Martin Gerloff  (Epic Meta...   \n",
       "4  RT Our amazingly talented Head Girl Jazz S per...   \n",
       "\n",
       "                                   sentiment_results  polarity  subjectivity  \\\n",
       "0  {'polarity': -0.15384615384615385, 'subjectivi... -0.153846      0.615385   \n",
       "1  {'polarity': 0.0, 'subjectivity': 0.25, 'senti...  0.000000      0.250000   \n",
       "2  {'polarity': -0.05, 'subjectivity': 0.4, 'sent... -0.050000      0.400000   \n",
       "3  {'polarity': 0.1, 'subjectivity': 0.4, 'sentim...  0.100000      0.400000   \n",
       "4  {'polarity': 0.6, 'subjectivity': 0.95, 'senti...  0.600000      0.950000   \n",
       "\n",
       "  sentiment  \n",
       "0  Negative  \n",
       "1   Neutral  \n",
       "2  Negative  \n",
       "3  Positive  \n",
       "4  Positive  "
      ]
     },
     "execution_count": 36,
     "metadata": {},
     "output_type": "execute_result"
    }
   ],
   "source": [
    "df.head()"
   ]
  },
  {
   "cell_type": "code",
   "execution_count": 37,
   "metadata": {},
   "outputs": [
    {
     "data": {
      "text/plain": [
       "Neutral     38\n",
       "Positive    34\n",
       "Negative     9\n",
       "Name: sentiment, dtype: int64"
      ]
     },
     "execution_count": 37,
     "metadata": {},
     "output_type": "execute_result"
    }
   ],
   "source": [
    "df['sentiment'].value_counts()"
   ]
  },
  {
   "cell_type": "code",
   "execution_count": 33,
   "metadata": {},
   "outputs": [
    {
     "ename": "AttributeError",
     "evalue": "'DataFrame' object has no attribute 'sentiment'",
     "output_type": "error",
     "traceback": [
      "\u001b[1;31m---------------------------------------------------------------------------\u001b[0m",
      "\u001b[1;31mAttributeError\u001b[0m                            Traceback (most recent call last)",
      "\u001b[1;32m~\\AppData\\Local\\Temp/ipykernel_31852/3814554295.py\u001b[0m in \u001b[0;36m<module>\u001b[1;34m\u001b[0m\n\u001b[1;32m----> 1\u001b[1;33m \u001b[0msns\u001b[0m\u001b[1;33m.\u001b[0m\u001b[0mcountplot\u001b[0m\u001b[1;33m(\u001b[0m\u001b[0mdf\u001b[0m\u001b[1;33m.\u001b[0m\u001b[0msentiment\u001b[0m\u001b[1;33m)\u001b[0m\u001b[1;33m\u001b[0m\u001b[1;33m\u001b[0m\u001b[0m\n\u001b[0m",
      "\u001b[1;32m~\\anaconda3\\lib\\site-packages\\pandas\\core\\generic.py\u001b[0m in \u001b[0;36m__getattr__\u001b[1;34m(self, name)\u001b[0m\n\u001b[0;32m   5485\u001b[0m         ):\n\u001b[0;32m   5486\u001b[0m             \u001b[1;32mreturn\u001b[0m \u001b[0mself\u001b[0m\u001b[1;33m[\u001b[0m\u001b[0mname\u001b[0m\u001b[1;33m]\u001b[0m\u001b[1;33m\u001b[0m\u001b[1;33m\u001b[0m\u001b[0m\n\u001b[1;32m-> 5487\u001b[1;33m         \u001b[1;32mreturn\u001b[0m \u001b[0mobject\u001b[0m\u001b[1;33m.\u001b[0m\u001b[0m__getattribute__\u001b[0m\u001b[1;33m(\u001b[0m\u001b[0mself\u001b[0m\u001b[1;33m,\u001b[0m \u001b[0mname\u001b[0m\u001b[1;33m)\u001b[0m\u001b[1;33m\u001b[0m\u001b[1;33m\u001b[0m\u001b[0m\n\u001b[0m\u001b[0;32m   5488\u001b[0m \u001b[1;33m\u001b[0m\u001b[0m\n\u001b[0;32m   5489\u001b[0m     \u001b[1;32mdef\u001b[0m \u001b[0m__setattr__\u001b[0m\u001b[1;33m(\u001b[0m\u001b[0mself\u001b[0m\u001b[1;33m,\u001b[0m \u001b[0mname\u001b[0m\u001b[1;33m:\u001b[0m \u001b[0mstr\u001b[0m\u001b[1;33m,\u001b[0m \u001b[0mvalue\u001b[0m\u001b[1;33m)\u001b[0m \u001b[1;33m->\u001b[0m \u001b[1;32mNone\u001b[0m\u001b[1;33m:\u001b[0m\u001b[1;33m\u001b[0m\u001b[1;33m\u001b[0m\u001b[0m\n",
      "\u001b[1;31mAttributeError\u001b[0m: 'DataFrame' object has no attribute 'sentiment'"
     ]
    }
   ],
   "source": [
    "sns.countplot(df.sentiment)"
   ]
  },
  {
   "cell_type": "code",
   "execution_count": 39,
   "metadata": {},
   "outputs": [
    {
     "name": "stdout",
     "output_type": "stream",
     "text": [
      "6.0\n",
      "4.0\n"
     ]
    }
   ],
   "source": [
    "plot_size = plt.rcParams[\"figure.figsize\"] \n",
    "print(plot_size[0]) \n",
    "print(plot_size[1])\n",
    "\n",
    "plot_size[0] = 8\n",
    "plot_size[1] = 6\n",
    "plt.rcParams[\"figure.figsize\"] = plot_size "
   ]
  },
  {
   "cell_type": "code",
   "execution_count": 41,
   "metadata": {},
   "outputs": [
    {
     "data": {
      "text/plain": [
       "<AxesSubplot:ylabel='sentiment'>"
      ]
     },
     "execution_count": 41,
     "metadata": {},
     "output_type": "execute_result"
    },
    {
     "data": {
      "image/png": "[encoded data removed]",
      "text/plain": [
       "<Figure size 576x432 with 1 Axes>"
      ]
     },
     "metadata": {},
     "output_type": "display_data"
    }
   ],
   "source": [
    "df.sentiment.value_counts().plot(kind='pie', autopct='%1.0f%%', colors=[\"red\", \"yellow\", \"green\"])"
   ]
  },
  {
   "cell_type": "code",
   "execution_count": 31,
   "metadata": {},
   "outputs": [],
   "source": [
    "    def get_sentiment(text):\n",
    "        blob = TextBlob(text)\n",
    "        sentiment_polarity = blob.sentiment.polarity\n",
    "        sentiment_subjectivity = blob.sentiment.subjectivity\n",
    "        if sentiment_polarity > 0:\n",
    "            sentiment_label = 'Positive'\n",
    "        elif sentiment_polarity < 0:\n",
    "            sentiment_label = 'Negative'\n",
    "        else:\n",
    "            sentiment_label = 'Neutral'\n",
    "        result = {'polarity': sentiment_polarity,\n",
    "                  'subjectivity': sentiment_subjectivity,\n",
    "                  'sentiment': sentiment_label}\n",
    "        return result\n",
    "\n",
    "    def sentiment(data):\n",
    "        df = pd.DataFrame(data,columns=['text'])\n",
    "        df['text'].apply(nfx.extract_hashtags)\n",
    "        df['clean_tweet'] = df['text'].apply(nfx.remove_hashtags)\n",
    "        df['clean_tweet'] = df['clean_tweet'].apply(lambda x: nfx.remove_userhandles(x))\n",
    "        df['clean_tweet'] = df['clean_tweet'].apply(nfx.remove_multiple_spaces)\n",
    "        df['clean_tweet'] = df['clean_tweet'].apply(nfx.remove_urls)\n",
    "        df['clean_tweet'] = df['clean_tweet'].apply(nfx.remove_puncts)\n",
    "        df['clean_tweet'] = df['clean_tweet'].apply(nfx.remove_emojis)\n",
    "        df['sentiment_results'] = df['clean_tweet'].apply(get_sentiment)\n",
    "        df = df.join(pd.json_normalize(df['sentiment_results']))\n",
    "        return df[['clean_tweet','sentiment']]"
   ]
  },
  {
   "cell_type": "code",
   "execution_count": 32,
   "metadata": {},
   "outputs": [
    {
     "data": {
      "text/html": [
       "<div>\n",
       "<style scoped>\n",
       "    .dataframe tbody tr th:only-of-type {\n",
       "        vertical-align: middle;\n",
       "    }\n",
       "\n",
       "    .dataframe tbody tr th {\n",
       "        vertical-align: top;\n",
       "    }\n",
       "\n",
       "    .dataframe thead th {\n",
       "        text-align: right;\n",
       "    }\n",
       "</style>\n",
       "<table border=\"1\" class=\"dataframe\">\n",
       "  <thead>\n",
       "    <tr style=\"text-align: right;\">\n",
       "      <th></th>\n",
       "      <th>clean_tweet</th>\n",
       "      <th>sentiment</th>\n",
       "    </tr>\n",
       "  </thead>\n",
       "  <tbody>\n",
       "    <tr>\n",
       "      <th>0</th>\n",
       "      <td>– Its not very comfortable is it\\n– Are you go...</td>\n",
       "      <td>Negative</td>\n",
       "    </tr>\n",
       "    <tr>\n",
       "      <th>1</th>\n",
       "      <td>I think such a thing was used in a quote in t...</td>\n",
       "      <td>Neutral</td>\n",
       "    </tr>\n",
       "    <tr>\n",
       "      <th>2</th>\n",
       "      <td>Its time for been too long</td>\n",
       "      <td>Negative</td>\n",
       "    </tr>\n",
       "    <tr>\n",
       "      <th>3</th>\n",
       "      <td>RT Norman Nathan ft Martin Gerloff  (Epic Meta...</td>\n",
       "      <td>Positive</td>\n",
       "    </tr>\n",
       "    <tr>\n",
       "      <th>4</th>\n",
       "      <td>RT Our amazingly talented Head Girl Jazz S per...</td>\n",
       "      <td>Positive</td>\n",
       "    </tr>\n",
       "    <tr>\n",
       "      <th>...</th>\n",
       "      <td>...</td>\n",
       "      <td>...</td>\n",
       "    </tr>\n",
       "    <tr>\n",
       "      <th>76</th>\n",
       "      <td>Bond hits rock bottom chats up bad guy feeds h...</td>\n",
       "      <td>Negative</td>\n",
       "    </tr>\n",
       "    <tr>\n",
       "      <th>77</th>\n",
       "      <td>Skyfall and Viennetta Now that’s good solid Su...</td>\n",
       "      <td>Positive</td>\n",
       "    </tr>\n",
       "    <tr>\n",
       "      <th>78</th>\n",
       "      <td>Sunday night viewing 007</td>\n",
       "      <td>Neutral</td>\n",
       "    </tr>\n",
       "    <tr>\n",
       "      <th>79</th>\n",
       "      <td>Each And Every Tuesday</td>\n",
       "      <td>Neutral</td>\n",
       "    </tr>\n",
       "    <tr>\n",
       "      <th>80</th>\n",
       "      <td>Time to Live and Let Die</td>\n",
       "      <td>Positive</td>\n",
       "    </tr>\n",
       "  </tbody>\n",
       "</table>\n",
       "<p>81 rows × 2 columns</p>\n",
       "</div>"
      ],
      "text/plain": [
       "                                          clean_tweet sentiment\n",
       "0   – Its not very comfortable is it\\n– Are you go...  Negative\n",
       "1    I think such a thing was used in a quote in t...   Neutral\n",
       "2                         Its time for been too long   Negative\n",
       "3   RT Norman Nathan ft Martin Gerloff  (Epic Meta...  Positive\n",
       "4   RT Our amazingly talented Head Girl Jazz S per...  Positive\n",
       "..                                                ...       ...\n",
       "76  Bond hits rock bottom chats up bad guy feeds h...  Negative\n",
       "77  Skyfall and Viennetta Now that’s good solid Su...  Positive\n",
       "78                          Sunday night viewing 007    Neutral\n",
       "79                            Each And Every Tuesday    Neutral\n",
       "80                          Time to Live and Let Die   Positive\n",
       "\n",
       "[81 rows x 2 columns]"
      ]
     },
     "execution_count": 32,
     "metadata": {},
     "output_type": "execute_result"
    }
   ],
   "source": [
    "sentiment(df)"
   ]
  },
  {
   "cell_type": "code",
   "execution_count": null,
   "metadata": {},
   "outputs": [],
   "source": []
  }
 ],
 "metadata": {
  "kernelspec": {
   "display_name": "Python 3 (ipykernel)",
   "language": "python",
   "name": "python3"
  },
  "language_info": {
   "codemirror_mode": {
    "name": "ipython",
    "version": 3
   },
   "file_extension": ".py",
   "mimetype": "text/x-python",
   "name": "python",
   "nbconvert_exporter": "python",
   "pygments_lexer": "ipython3",
   "version": "3.8.8"
  }
 },
 "nbformat": 4,
 "nbformat_minor": 4
}
